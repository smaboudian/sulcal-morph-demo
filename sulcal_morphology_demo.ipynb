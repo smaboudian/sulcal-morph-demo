{
 "cells": [
  {
   "cell_type": "markdown",
   "id": "935af48c",
   "metadata": {},
   "source": []
  },
  {
   "attachments": {},
   "cell_type": "markdown",
   "id": "2c00d2d0",
   "metadata": {},
   "source": [
    "# Sulcal morphology pipeline\n",
    "\n",
    "We want to measure morphological properties of small and variable sulci. To do so, we'll need to  \n",
    "(1) process the raw T1 scan in FreeSurfer,  \n",
    "(2) manually identify and label the sulci, and  \n",
    "(3) use FreeSurfer to extract anatomical properties from our sulcal labels.\n",
    "\n",
    "The full pipeline is outlined below:\n",
    "\n",
    "<img src=\"images/sulcmorph-pipeline.png\" width=\"900\" />\n"
   ]
  },
  {
   "cell_type": "markdown",
   "id": "ab6a26ea",
   "metadata": {},
   "source": [
    "The first step is already completed (because it takes a few hours per scan): running the _recon-all_ command in FreeSurfer. \n",
    "\n",
    "FreeSurfer (FS) is an open-source software package for neuroimaging (structural MRI) analysis and visualization<sup>[1]</sup>. [_Recon-all_](https://surfer.nmr.mgh.harvard.edu/fswiki/recon-all) performs the FS cortical reconstruction process, which converts the 3D cortical volume into 2D surfaces that it uses to compute various anatomical properties (we'll use in step 3)<sup>[2]</sup>. \n",
    "\n",
    "\n",
    "<img src=\"images/FS_reconall.png\" width=\"600\" />\n",
    "<img src=\"images/FS_reconall-output.png\" width=\"600\" />\n",
    "\n"
   ]
  },
  {
   "cell_type": "code",
   "execution_count": null,
   "id": "7bd6f159",
   "metadata": {},
   "outputs": [],
   "source": []
  },
  {
   "cell_type": "markdown",
   "id": "3bd85a3c",
   "metadata": {},
   "source": [
    "# Labeling sulci\n",
    "\n",
    "The next step is to manually identify and label the sulci. We first do this on screenshots of each hemisphere and then enter finalized labels into FS to extract morphological properties from each label.\n",
    "\n",
    "For this demo, we'll be labeling sulci in medial parietal cortex (MPC).  \n",
    "\n",
    "There is some variability in the number and location of sulci.  \n",
    "\n",
    "\n",
    "Head to this link and pick a few slides each to label.\n"
   ]
  },
  {
   "cell_type": "markdown",
   "id": "a104f928",
   "metadata": {},
   "source": [
    "Once we've labeled the sulci on the screenshots and confirmed they're correct, we can enter them into FS.  \n",
    "For this step you need to log into the Neuro Cluster; talk to Samira.\n",
    "\n",
    "Instructions for entering sulcal labels into FS are [here](https://sites.google.com/view/cnl-wiki/home/how-tos/freesufer/labels-in-freesurfer?authuser=0) (skip to step 5). "
   ]
  },
  {
   "cell_type": "code",
   "execution_count": null,
   "id": "961e39ec",
   "metadata": {},
   "outputs": [],
   "source": []
  },
  {
   "cell_type": "markdown",
   "id": "9a795de3",
   "metadata": {},
   "source": [
    "# Extracting anatomical properties from sulcal labels & analyzing them"
   ]
  },
  {
   "cell_type": "markdown",
   "id": "0f36b8a8",
   "metadata": {},
   "source": [
    "Running the [_mris_anatomical_stats_](https://surfer.nmr.mgh.harvard.edu/fswiki/mris_anatomical_stats) function in FS computes anatomical properties (surface area, gray matter volume, cortical thickness, etc.) for a set of labels (if specified), in this case the sulcal labels you just created. This can take some time, so you can skip this step for this demo. "
   ]
  },
  {
   "cell_type": "code",
   "execution_count": 7,
   "id": "938e4b69",
   "metadata": {},
   "outputs": [
    {
     "data": {
      "text/plain": [
       "'0.11.1'"
      ]
     },
     "execution_count": 7,
     "metadata": {},
     "output_type": "execute_result"
    }
   ],
   "source": [
    "import seaborn as sns\n",
    "sns.__version__"
   ]
  },
  {
   "cell_type": "code",
   "execution_count": 4,
   "id": "bfdccfed",
   "metadata": {},
   "outputs": [
    {
     "data": {
      "text/plain": [
       "'1.2.5'"
      ]
     },
     "execution_count": 4,
     "metadata": {},
     "output_type": "execute_result"
    }
   ],
   "source": []
  },
  {
   "cell_type": "code",
   "execution_count": null,
   "id": "dadb07ca",
   "metadata": {},
   "outputs": [],
   "source": []
  },
  {
   "cell_type": "code",
   "execution_count": null,
   "id": "33e7f71e",
   "metadata": {},
   "outputs": [],
   "source": []
  },
  {
   "cell_type": "code",
   "execution_count": null,
   "id": "90318488",
   "metadata": {},
   "outputs": [],
   "source": []
  },
  {
   "cell_type": "markdown",
   "id": "bcdaadf9",
   "metadata": {},
   "source": [
    "# Resources:\n",
    "\n",
    "1. FreeSurfer wiki: https://surfer.nmr.mgh.harvard.edu/fswiki\n",
    "2. FreeSurfer tutorial slides used in this demo: https://surfer.nmr.mgh.harvard.edu/fswiki/Tutorials \n",
    "3. FreeSurfer tutorial: https://andysbrainbook.readthedocs.io/en/latest/FreeSurfer/FreeSurfer_Introduction.html\n",
    "\n"
   ]
  },
  {
   "cell_type": "code",
   "execution_count": null,
   "id": "e0a1ee3e",
   "metadata": {},
   "outputs": [],
   "source": []
  }
 ],
 "metadata": {
  "kernelspec": {
   "display_name": "Python 3",
   "language": "python",
   "name": "python3"
  },
  "language_info": {
   "codemirror_mode": {
    "name": "ipython",
    "version": 3
   },
   "file_extension": ".py",
   "mimetype": "text/x-python",
   "name": "python",
   "nbconvert_exporter": "python",
   "pygments_lexer": "ipython3",
   "version": "3.7.7"
  }
 },
 "nbformat": 4,
 "nbformat_minor": 5
}
