{
  "cells": [
    {
      "cell_type": "markdown",
      "id": "f0c128b7",
      "metadata": {
        "id": "f0c128b7"
      },
      "source": [
        "# Sulcal morphology pipeline\n",
        "\n",
        "We want to measure morphological properties of small and variable sulci. To do so, we'll need to  \n",
        "(1) process the raw T1 scan in FreeSurfer,  \n",
        "(2) manually identify and label the sulci, and  \n",
        "(3) use FreeSurfer to extract anatomical properties from our sulcal labels.\n",
        "\n",
        "The full pipeline is outlined below:\n",
        "\n",
        "<img src=\"https://raw.githubusercontent.com/smaboudian/sulcal-morph-demo/main/images/sulcmorph-pipeline.png\" width=\"900\" />\n"
      ]
    },
    {
      "cell_type": "markdown",
      "id": "87b0d64f",
      "metadata": {
        "id": "87b0d64f"
      },
      "source": [
        "The first step is already completed (because it takes a few hours per scan): running the _recon-all_ command in FreeSurfer. \n",
        "\n",
        "FreeSurfer (FS) is an open-source software package for neuroimaging (structural MRI) analysis and visualization<sup>[1]</sup>. [_Recon-all_](https://surfer.nmr.mgh.harvard.edu/fswiki/recon-all) performs the FS cortical reconstruction process, which converts the 3D cortical volume into 2D surfaces that it uses to compute various anatomical properties (that we'll use in step 3)<sup>[2]</sup>. Here's an overview of the steps:\n",
        "\n",
        "\n",
        "<img src=\"https://raw.githubusercontent.com/smaboudian/sulcal-morph-demo/main/images/FS_reconall.png\" width=\"800\" /> \n",
        "\n",
        "<img src=\"https://raw.githubusercontent.com/smaboudian/sulcal-morph-demo/main/images/FS_reconall-output.png\" width=\"800\" />\n",
        "\n",
        "We'll be labeling sulci on the *inflated* surface, because the inflation allows us to see the sulci (in red). We use the *pial* (the one that looks like a regular brain) as a reference, because sometimes the inflated one distorts the way the sulci look.\n"
      ]
    },
    {
      "cell_type": "code",
      "execution_count": null,
      "id": "d08203b9",
      "metadata": {
        "id": "d08203b9"
      },
      "outputs": [],
      "source": [
        ""
      ]
    },
    {
      "cell_type": "markdown",
      "id": "f679af6a",
      "metadata": {
        "id": "f679af6a"
      },
      "source": [
        "# Labeling sulci\n",
        "\n",
        "The next step is to manually identify and label the sulci. We first do this on screenshots of each hemisphere and then enter finalized labels into FS to extract morphological properties from each label.\n",
        "\n",
        "For this demo, we'll be labeling sulci in medial parietal cortex (MPC). In this region, there are 7 primary/secondary sulci and 1-5 tertiary sulci:\n",
        "\n",
        "\n",
        "<img src=\"https://raw.githubusercontent.com/smaboudian/sulcal-morph-demo/main/images/labels_inflated_pial.png\" width=\"1000\" />\n",
        "\n",
        "\n",
        "There is considerable individual variability in the number and location of sulci: there are 8 sulci that will be present in all hemispheres (\"consistent\"), and 4 variable or \"inconsistent\" sulci that not every hemisphere will have:\n",
        "\n",
        "<img src=\"https://raw.githubusercontent.com/smaboudian/sulcal-morph-demo/main/images/MPC_sulci.png\" width=\"1000\" />\n",
        "\n",
        "\n",
        "\n",
        "Head to [this link](https://docs.google.com/presentation/d/1bP4_0ZPlcH8Zn5mYyScCcsP61hnBiWtJg36Zq9l0v6k/edit?usp=sharing) to see some examples of labeled hemispheres and atlases we use for reference. Pick a few slides each to label (directly on the slide).\n"
      ]
    },
    {
      "cell_type": "markdown",
      "id": "48621d4e",
      "metadata": {
        "id": "48621d4e"
      },
      "source": [
        "Once we've labeled the sulci on the screenshots and confirmed they're correct, we can enter them into FS.  \n",
        "For this step you need to log into the Neuro Cluster; talk to Samira.   \n",
        "*[probably will run through the process once myself in tksurfer to show them (like I do w/ RAs), & then will log them into the cluster in 2 groups on my laptop + ethans since we already have X2Go setup]*\n",
        "\n",
        "Instructions for entering sulcal labels into FS are [here](https://sites.google.com/view/cnl-wiki/home/how-tos/freesufer/labels-in-freesurfer?authuser=0) (skip to step 5). "
      ]
    },
    {
      "cell_type": "code",
      "execution_count": null,
      "id": "40c0b39f",
      "metadata": {
        "id": "40c0b39f"
      },
      "outputs": [],
      "source": [
        ""
      ]
    },
    {
      "cell_type": "markdown",
      "id": "f82ca81b",
      "metadata": {
        "id": "f82ca81b"
      },
      "source": [
        "# Extracting anatomical properties from sulcal labels & analyzing them"
      ]
    },
    {
      "cell_type": "markdown",
      "id": "64062302",
      "metadata": {
        "id": "64062302"
      },
      "source": [
        "Running the [_mris_anatomical_stats_](https://surfer.nmr.mgh.harvard.edu/fswiki/mris_anatomical_stats) function in FS computes anatomical properties (surface area, gray matter volume, cortical thickness, etc.) for a set of labels (if specified), in this case the sulcal labels you just created. This can take some time, so you can skip this step for this demo. \n",
        "\n",
        "Now you can view the final output that contains the morphological metrics for the sulci you labeled. Run the code cells below to load in the data -- some basic plots and analyses are provided, but feel free to play around with it on your own too!\n",
        "\n",
        "*[I kept this very simple but lmk if you think we should add more. data is from ADNI OA CNs, before we had x/y labels]*\n",
        "\n",
        "\n"
      ]
    },
    {
      "cell_type": "code",
      "execution_count": null,
      "id": "91ac5d2f",
      "metadata": {
        "id": "91ac5d2f"
      },
      "outputs": [],
      "source": [
        "## load packages ##\n",
        "import pandas as pd\n",
        "import numpy as np \n",
        "import matplotlib.pyplot as plt\n",
        "import seaborn as sns"
      ]
    },
    {
      "cell_type": "code",
      "execution_count": null,
      "id": "44cde7c2",
      "metadata": {
        "id": "44cde7c2"
      },
      "outputs": [],
      "source": [
        "# load in your data: morphological metrics for your sulcal labels\n",
        "url = 'https://raw.githubusercontent.com/smaboudian/sulcal-morph-demo/main/demo-30CN_MPC.csv'\n",
        "df = pd.read_csv(url, converters={'item': eval})\n",
        "df.head()"
      ]
    },
    {
      "cell_type": "code",
      "execution_count": null,
      "id": "4d9c1dfa",
      "metadata": {
        "id": "4d9c1dfa"
      },
      "outputs": [],
      "source": [
        "# function to make violin plots, using Seaborn (just run this cell)\n",
        "\n",
        "def violinplot(df, metric, metric_name):\n",
        "    sulci = ['pos', 'prculs', 'prcus-p', 'prcus-i', 'prcus-a', \n",
        "             'spls', 'mcgs','sspls', 'ifrms', 'icgs-p']\n",
        "\n",
        "    fig, axes = plt.subplots(1, 2, sharey=True, figsize=(15, 4))\n",
        "    fig.suptitle(metric_name+' by sulcal type and hemisphere');\n",
        "\n",
        "    axes[0].set_title('left hem.')\n",
        "    sns.violinplot(ax=axes[0],\n",
        "                   x=\"label\", y=metric, \n",
        "                   hue=\"sulc_type\", order=sulci,\n",
        "                   data=df[df['hemi']=='lh']);\n",
        "    axes[1].set_title('right hem.')\n",
        "    axes[1].set_ylabel('');\n",
        "    sns.violinplot(ax=axes[1],\n",
        "                   x=\"label\", y=metric, \n",
        "                   hue=\"sulc_type\", order=sulci,\n",
        "                   data=df[df['hemi']=='rh']);\n"
      ]
    },
    {
      "cell_type": "code",
      "execution_count": null,
      "id": "3f568a15",
      "metadata": {
        "id": "3f568a15"
      },
      "outputs": [],
      "source": [
        "# plot mean sulcal cortical thickness (in mm)\n",
        "violinplot(df, 'cortical_thickness_mean', 'sulcal cortical thickness')"
      ]
    },
    {
      "cell_type": "code",
      "execution_count": null,
      "id": "2ce8438b",
      "metadata": {
        "id": "2ce8438b"
      },
      "outputs": [],
      "source": [
        "# plot mean sulcal depth (in mm)\n",
        "violinplot(df, 'sulcal_depth_mm', 'sulcal depth')"
      ]
    },
    {
      "cell_type": "markdown",
      "id": "9415b4f6",
      "metadata": {
        "id": "9415b4f6"
      },
      "source": [
        "It looks like tertiary sulci are both thicker and less deep than primary & secondary sulci. Let's confirm that:"
      ]
    },
    {
      "cell_type": "code",
      "execution_count": null,
      "id": "71b4837c",
      "metadata": {
        "id": "71b4837c"
      },
      "outputs": [],
      "source": [
        "## setup rpy2 ##\n",
        "# run once; this will allow you to run R embedded in your Python notebook\n",
        "%load_ext rpy2.ipython\n"
      ]
    },
    {
      "cell_type": "code",
      "execution_count": null,
      "id": "e30250a0",
      "metadata": {
        "id": "e30250a0"
      },
      "outputs": [],
      "source": [
        "## import robjects ##\n",
        "import tzlocal\n",
        "import rpy2.robjects \n",
        "from rpy2.robjects import r"
      ]
    },
    {
      "cell_type": "code",
      "execution_count": null,
      "id": "7adeff44",
      "metadata": {
        "id": "7adeff44"
      },
      "outputs": [],
      "source": [
        "#### import rpackages ####\n",
        "\n",
        "# import rpy2's package module\n",
        "import rpy2.robjects.packages as rpackages\n",
        "\n",
        "# import R's utility package\n",
        "utils = rpackages.importr('utils')\n",
        "\n",
        "# select a mirror for R packages\n",
        "utils.chooseCRANmirror(ind=1) # select the first mirror in the list"
      ]
    },
    {
      "cell_type": "code",
      "execution_count": null,
      "id": "0748651f",
      "metadata": {
        "id": "0748651f"
      },
      "outputs": [],
      "source": [
        "%%R \n",
        "#^ runs R in this cell\n",
        "\n",
        "# load packages\n",
        "library(nlme)\n",
        "\n",
        "# load data in R\n",
        "url = 'https://raw.githubusercontent.com/smaboudian/sulcal-morph-demo/main/demo-30CN_MPC.csv'\n",
        "df = read.csv(url)\n",
        "\n",
        "# run models\n",
        "model_CT <- lme(cortical_thickness_mean ~ hemi * sulc_type, random = ~ 1|sub/hemi/sulc_type,\n",
        "               data = df)\n",
        "model_CT.aov <- anova(model_CT)\n",
        "cat('Cortical Thickness ANOVA:\\n')\n",
        "print(model_CT.aov)\n",
        "\n",
        "model_SD <- lme(sulcal_depth_mm ~ hemi * sulc_type, random = ~ 1|sub/hemi/sulc_type,\n",
        "               data = df)\n",
        "model_SD.aov <- anova(model_SD)\n",
        "cat('\\nSulcal Depth ANOVA:\\n')\n",
        "print(model_SD.aov)"
      ]
    },
    {
      "cell_type": "code",
      "execution_count": null,
      "id": "196eaba3",
      "metadata": {
        "id": "196eaba3"
      },
      "outputs": [],
      "source": [
        "# feel free to run your own analyses in the cells below!"
      ]
    },
    {
      "cell_type": "code",
      "execution_count": null,
      "id": "6a6a8514",
      "metadata": {
        "id": "6a6a8514"
      },
      "outputs": [],
      "source": [
        ""
      ]
    },
    {
      "cell_type": "code",
      "execution_count": null,
      "id": "6f655e2b",
      "metadata": {
        "id": "6f655e2b"
      },
      "outputs": [],
      "source": [
        ""
      ]
    },
    {
      "cell_type": "code",
      "execution_count": null,
      "id": "99939396",
      "metadata": {
        "id": "99939396"
      },
      "outputs": [],
      "source": [
        ""
      ]
    },
    {
      "cell_type": "code",
      "execution_count": null,
      "id": "030751f8",
      "metadata": {
        "id": "030751f8"
      },
      "outputs": [],
      "source": [
        ""
      ]
    },
    {
      "cell_type": "markdown",
      "id": "630d9226",
      "metadata": {
        "id": "630d9226"
      },
      "source": [
        "# Resources:\n",
        "\n",
        "1. FreeSurfer wiki: https://surfer.nmr.mgh.harvard.edu/fswiki\n",
        "2. FreeSurfer tutorial slides used in this demo: https://surfer.nmr.mgh.harvard.edu/fswiki/Tutorials \n",
        "3. FreeSurfer tutorial: https://andysbrainbook.readthedocs.io/en/latest/FreeSurfer/FreeSurfer_Introduction.html\n",
        "\n"
      ]
    },
    {
      "cell_type": "code",
      "execution_count": null,
      "id": "2e8868f8",
      "metadata": {
        "id": "2e8868f8"
      },
      "outputs": [],
      "source": [
        ""
      ]
    }
  ],
  "metadata": {
    "kernelspec": {
      "display_name": "Python 3",
      "language": "python",
      "name": "python3"
    },
    "language_info": {
      "codemirror_mode": {
        "name": "ipython",
        "version": 3
      },
      "file_extension": ".py",
      "mimetype": "text/x-python",
      "name": "python",
      "nbconvert_exporter": "python",
      "pygments_lexer": "ipython3",
      "version": "3.7.7"
    },
    "colab": {
      "name": "sulcal_morph_demo.ipynb",
      "provenance": [],
      "collapsed_sections": []
    }
  },
  "nbformat": 4,
  "nbformat_minor": 5
}