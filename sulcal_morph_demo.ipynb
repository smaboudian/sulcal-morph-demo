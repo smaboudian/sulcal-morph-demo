{
  "cells": [
    {
      "cell_type": "markdown",
      "id": "f0c128b7",
      "metadata": {
        "id": "f0c128b7"
      },
      "source": [
        "# Sulcal morphology pipeline\n",
        "\n",
        "We want to measure morphological properties of small and variable sulci. To do so, we'll need to  \n",
        "(1) process the raw T1 scan in FreeSurfer,  \n",
        "(2) manually identify and label the sulci, and  \n",
        "(3) use FreeSurfer to extract anatomical properties from our sulcal labels.\n",
        "\n",
        "The full pipeline is outlined below:\n",
        "\n",
        "<img src=\"https://raw.githubusercontent.com/smaboudian/sulcal-morph-demo/main/images/sulcmorph-pipeline.png\" width=\"900\" />\n"
      ]
    },
    {
      "cell_type": "markdown",
      "id": "87b0d64f",
      "metadata": {
        "id": "87b0d64f"
      },
      "source": [
        "The first step is already completed (because it takes a few hours per scan): running the _recon-all_ command in FreeSurfer. \n",
        "\n",
        "FreeSurfer (FS) is an open-source software package for neuroimaging (structural MRI) analysis and visualization<sup>[1]</sup>. [_Recon-all_](https://surfer.nmr.mgh.harvard.edu/fswiki/recon-all) performs the FS cortical reconstruction process, which converts the 3D cortical volume into 2D surfaces that it uses to compute various anatomical properties (that we'll use in step 3)<sup>[2]</sup>. Here's an overview of the steps:\n",
        "\n",
        "\n",
        "<img src=\"https://raw.githubusercontent.com/smaboudian/sulcal-morph-demo/main/images/FS_reconall.png\" width=\"800\" /> \n",
        "\n",
        "<img src=\"https://raw.githubusercontent.com/smaboudian/sulcal-morph-demo/main/images/FS_reconall-output.png\" width=\"800\" />\n",
        "\n",
        "We'll be labeling sulci on the *inflated* surface, because the inflation allows us to see the sulci (in red). We use the *pial* (the one that looks like a regular brain) as a reference, because sometimes the inflated one distorts the way the sulci look.\n"
      ]
    },
    {
      "cell_type": "code",
      "execution_count": null,
      "id": "d08203b9",
      "metadata": {
        "id": "d08203b9"
      },
      "outputs": [],
      "source": []
    },
    {
      "cell_type": "markdown",
      "id": "f679af6a",
      "metadata": {
        "id": "f679af6a"
      },
      "source": [
        "# Labeling sulci\n",
        "\n",
        "The next step is to manually identify and label the sulci. We first do this on screenshots of each hemisphere and then enter finalized labels into FS to extract morphological properties from each label.\n",
        "\n",
        "For this demo, we'll be labeling sulci in medial parietal cortex (MPC). In this region, there are 7 primary/secondary sulci and 1-5 tertiary sulci:\n",
        "\n",
        "\n",
        "<img src=\"https://raw.githubusercontent.com/smaboudian/sulcal-morph-demo/main/images/labels_inflated_pial.png\" width=\"1000\" />\n",
        "\n",
        "\n",
        "There is considerable individual variability in the number and location of sulci: there are 8 sulci that will be present in all hemispheres (\"consistent\"), and 4 variable or \"inconsistent\" sulci that not every hemisphere will have:\n",
        "\n",
        "<img src=\"https://raw.githubusercontent.com/smaboudian/sulcal-morph-demo/main/images/MPC_sulci.png\" width=\"1000\" />\n",
        "\n",
        "\n",
        "\n",
        "Head to [this link](https://docs.google.com/presentation/d/1bP4_0ZPlcH8Zn5mYyScCcsP61hnBiWtJg36Zq9l0v6k/edit?usp=sharing) to see some examples of labeled hemispheres and atlases we use for reference. Pick a few slides each to label (directly on the slide).\n"
      ]
    },
    {
      "cell_type": "markdown",
      "id": "48621d4e",
      "metadata": {
        "id": "48621d4e"
      },
      "source": [
        "Once we've labeled the sulci on the screenshots and confirmed they're correct, we can enter them into FS.   \n",
        "\n",
        "Since you don't have access to the Neuro Cluster, this step has already been done for you. (if you want to see how we do it, instructions for entering sulcal labels into FS are [here](https://sites.google.com/view/cnl-wiki/home/how-tos/freesufer/labels-in-freesurfer?authuser=0); skip to step 5).   \n",
        "\n"
      ]
    },
    {
      "cell_type": "code",
      "execution_count": null,
      "id": "40c0b39f",
      "metadata": {
        "id": "40c0b39f"
      },
      "outputs": [],
      "source": []
    },
    {
      "cell_type": "markdown",
      "id": "f82ca81b",
      "metadata": {
        "id": "f82ca81b"
      },
      "source": [
        "# Extracting anatomical properties from sulcal labels & analyzing them"
      ]
    },
    {
      "cell_type": "markdown",
      "id": "64062302",
      "metadata": {
        "id": "64062302"
      },
      "source": [
        "Running the [_mris_anatomical_stats_](https://surfer.nmr.mgh.harvard.edu/fswiki/mris_anatomical_stats) function in FS computes anatomical properties (surface area, gray matter volume, cortical thickness, etc.) for a set of labels (if specified), in this case the sulcal labels you just created. This can take some time, so you can skip this step for this demo. \n",
        "\n",
        "Now you can view the final output that contains the morphological metrics for the sulci you labeled. Run the code cells below to load in the data -- some basic plots and analyses are provided, but feel free to play around with it on your own too!\n",
        "\n",
        "\n"
      ]
    },
    {
      "cell_type": "code",
      "execution_count": null,
      "id": "91ac5d2f",
      "metadata": {
        "id": "91ac5d2f"
      },
      "outputs": [],
      "source": [
        "## load packages ##\n",
        "import pandas as pd\n",
        "import numpy as np \n",
        "import matplotlib.pyplot as plt\n",
        "import seaborn as sns"
      ]
    },
    {
      "cell_type": "code",
      "execution_count": null,
      "id": "44cde7c2",
      "metadata": {
        "id": "44cde7c2",
        "colab": {
          "base_uri": "https://localhost:8080/",
          "height": 297
        },
        "outputId": "330d7842-faf9-4e69-f6f6-82c885e6b123"
      },
      "outputs": [
        {
          "output_type": "execute_result",
          "data": {
            "text/plain": [
              "  group         sub hemi    label  vertices  total_surface_area_(mm^2)  \\\n",
              "0    CN  007_S_4488   lh      pos    1764.0                     1204.0   \n",
              "1    CN  007_S_4488   lh   prculs     464.0                      329.0   \n",
              "2    CN  007_S_4488   lh  prcus-p     415.0                      284.0   \n",
              "3    CN  007_S_4488   lh  prcus-i     306.0                      227.0   \n",
              "4    CN  007_S_4488   lh  prcus-a     546.0                      400.0   \n",
              "\n",
              "   total_gray_matter_volume_(mm^3)  cortical_thickness_mean  \\\n",
              "0                           2277.0                    2.232   \n",
              "1                            579.0                    1.957   \n",
              "2                            574.0                    2.258   \n",
              "3                            364.0                    1.857   \n",
              "4                            725.0                    2.035   \n",
              "\n",
              "   cortical_thickness_std  rectified_mean_curvature  \\\n",
              "0                   0.342                     0.111   \n",
              "1                   0.291                     0.102   \n",
              "2                   0.338                     0.115   \n",
              "3                   0.335                     0.134   \n",
              "4                   0.386                     0.120   \n",
              "\n",
              "   rectified_Gaussian_curvature  folding_index  intrinsic_curvature_index  \\\n",
              "0                         0.022            9.0                        1.7   \n",
              "1                         0.012            2.0                        0.3   \n",
              "2                         0.021            2.0                        0.4   \n",
              "3                         0.019            3.0                        0.3   \n",
              "4                         0.017            4.0                        0.5   \n",
              "\n",
              "   sulcal_depth_mean  sulcal_depth_max  sulcal_depth_mean_pct  \\\n",
              "0           5.188825         13.898811               0.309191   \n",
              "1           3.194825         10.882976               0.190373   \n",
              "2           4.195996          9.133797               0.250030   \n",
              "3          -1.208224          2.093879              -0.071995   \n",
              "4           3.230111          8.453441               0.192475   \n",
              "\n",
              "           sulc_type label_orig  sulcal_depth_mm area  \n",
              "0  primary/secondary        POS        21.108100  PMC  \n",
              "1  primary/secondary     prculs        16.783466  PMC  \n",
              "2  primary/secondary     prcus1        12.845846  PMC  \n",
              "3  primary/secondary     prcus2         8.776521  PMC  \n",
              "4  primary/secondary     prcus3        11.436054  PMC  "
            ],
            "text/html": [
              "\n",
              "  <div id=\"df-68b1b315-7f6a-44a7-b24b-5be18059c4e1\">\n",
              "    <div class=\"colab-df-container\">\n",
              "      <div>\n",
              "<style scoped>\n",
              "    .dataframe tbody tr th:only-of-type {\n",
              "        vertical-align: middle;\n",
              "    }\n",
              "\n",
              "    .dataframe tbody tr th {\n",
              "        vertical-align: top;\n",
              "    }\n",
              "\n",
              "    .dataframe thead th {\n",
              "        text-align: right;\n",
              "    }\n",
              "</style>\n",
              "<table border=\"1\" class=\"dataframe\">\n",
              "  <thead>\n",
              "    <tr style=\"text-align: right;\">\n",
              "      <th></th>\n",
              "      <th>group</th>\n",
              "      <th>sub</th>\n",
              "      <th>hemi</th>\n",
              "      <th>label</th>\n",
              "      <th>vertices</th>\n",
              "      <th>total_surface_area_(mm^2)</th>\n",
              "      <th>total_gray_matter_volume_(mm^3)</th>\n",
              "      <th>cortical_thickness_mean</th>\n",
              "      <th>cortical_thickness_std</th>\n",
              "      <th>rectified_mean_curvature</th>\n",
              "      <th>rectified_Gaussian_curvature</th>\n",
              "      <th>folding_index</th>\n",
              "      <th>intrinsic_curvature_index</th>\n",
              "      <th>sulcal_depth_mean</th>\n",
              "      <th>sulcal_depth_max</th>\n",
              "      <th>sulcal_depth_mean_pct</th>\n",
              "      <th>sulc_type</th>\n",
              "      <th>label_orig</th>\n",
              "      <th>sulcal_depth_mm</th>\n",
              "      <th>area</th>\n",
              "    </tr>\n",
              "  </thead>\n",
              "  <tbody>\n",
              "    <tr>\n",
              "      <th>0</th>\n",
              "      <td>CN</td>\n",
              "      <td>007_S_4488</td>\n",
              "      <td>lh</td>\n",
              "      <td>pos</td>\n",
              "      <td>1764.0</td>\n",
              "      <td>1204.0</td>\n",
              "      <td>2277.0</td>\n",
              "      <td>2.232</td>\n",
              "      <td>0.342</td>\n",
              "      <td>0.111</td>\n",
              "      <td>0.022</td>\n",
              "      <td>9.0</td>\n",
              "      <td>1.7</td>\n",
              "      <td>5.188825</td>\n",
              "      <td>13.898811</td>\n",
              "      <td>0.309191</td>\n",
              "      <td>primary/secondary</td>\n",
              "      <td>POS</td>\n",
              "      <td>21.108100</td>\n",
              "      <td>PMC</td>\n",
              "    </tr>\n",
              "    <tr>\n",
              "      <th>1</th>\n",
              "      <td>CN</td>\n",
              "      <td>007_S_4488</td>\n",
              "      <td>lh</td>\n",
              "      <td>prculs</td>\n",
              "      <td>464.0</td>\n",
              "      <td>329.0</td>\n",
              "      <td>579.0</td>\n",
              "      <td>1.957</td>\n",
              "      <td>0.291</td>\n",
              "      <td>0.102</td>\n",
              "      <td>0.012</td>\n",
              "      <td>2.0</td>\n",
              "      <td>0.3</td>\n",
              "      <td>3.194825</td>\n",
              "      <td>10.882976</td>\n",
              "      <td>0.190373</td>\n",
              "      <td>primary/secondary</td>\n",
              "      <td>prculs</td>\n",
              "      <td>16.783466</td>\n",
              "      <td>PMC</td>\n",
              "    </tr>\n",
              "    <tr>\n",
              "      <th>2</th>\n",
              "      <td>CN</td>\n",
              "      <td>007_S_4488</td>\n",
              "      <td>lh</td>\n",
              "      <td>prcus-p</td>\n",
              "      <td>415.0</td>\n",
              "      <td>284.0</td>\n",
              "      <td>574.0</td>\n",
              "      <td>2.258</td>\n",
              "      <td>0.338</td>\n",
              "      <td>0.115</td>\n",
              "      <td>0.021</td>\n",
              "      <td>2.0</td>\n",
              "      <td>0.4</td>\n",
              "      <td>4.195996</td>\n",
              "      <td>9.133797</td>\n",
              "      <td>0.250030</td>\n",
              "      <td>primary/secondary</td>\n",
              "      <td>prcus1</td>\n",
              "      <td>12.845846</td>\n",
              "      <td>PMC</td>\n",
              "    </tr>\n",
              "    <tr>\n",
              "      <th>3</th>\n",
              "      <td>CN</td>\n",
              "      <td>007_S_4488</td>\n",
              "      <td>lh</td>\n",
              "      <td>prcus-i</td>\n",
              "      <td>306.0</td>\n",
              "      <td>227.0</td>\n",
              "      <td>364.0</td>\n",
              "      <td>1.857</td>\n",
              "      <td>0.335</td>\n",
              "      <td>0.134</td>\n",
              "      <td>0.019</td>\n",
              "      <td>3.0</td>\n",
              "      <td>0.3</td>\n",
              "      <td>-1.208224</td>\n",
              "      <td>2.093879</td>\n",
              "      <td>-0.071995</td>\n",
              "      <td>primary/secondary</td>\n",
              "      <td>prcus2</td>\n",
              "      <td>8.776521</td>\n",
              "      <td>PMC</td>\n",
              "    </tr>\n",
              "    <tr>\n",
              "      <th>4</th>\n",
              "      <td>CN</td>\n",
              "      <td>007_S_4488</td>\n",
              "      <td>lh</td>\n",
              "      <td>prcus-a</td>\n",
              "      <td>546.0</td>\n",
              "      <td>400.0</td>\n",
              "      <td>725.0</td>\n",
              "      <td>2.035</td>\n",
              "      <td>0.386</td>\n",
              "      <td>0.120</td>\n",
              "      <td>0.017</td>\n",
              "      <td>4.0</td>\n",
              "      <td>0.5</td>\n",
              "      <td>3.230111</td>\n",
              "      <td>8.453441</td>\n",
              "      <td>0.192475</td>\n",
              "      <td>primary/secondary</td>\n",
              "      <td>prcus3</td>\n",
              "      <td>11.436054</td>\n",
              "      <td>PMC</td>\n",
              "    </tr>\n",
              "  </tbody>\n",
              "</table>\n",
              "</div>\n",
              "      <button class=\"colab-df-convert\" onclick=\"convertToInteractive('df-68b1b315-7f6a-44a7-b24b-5be18059c4e1')\"\n",
              "              title=\"Convert this dataframe to an interactive table.\"\n",
              "              style=\"display:none;\">\n",
              "        \n",
              "  <svg xmlns=\"http://www.w3.org/2000/svg\" height=\"24px\"viewBox=\"0 0 24 24\"\n",
              "       width=\"24px\">\n",
              "    <path d=\"M0 0h24v24H0V0z\" fill=\"none\"/>\n",
              "    <path d=\"M18.56 5.44l.94 2.06.94-2.06 2.06-.94-2.06-.94-.94-2.06-.94 2.06-2.06.94zm-11 1L8.5 8.5l.94-2.06 2.06-.94-2.06-.94L8.5 2.5l-.94 2.06-2.06.94zm10 10l.94 2.06.94-2.06 2.06-.94-2.06-.94-.94-2.06-.94 2.06-2.06.94z\"/><path d=\"M17.41 7.96l-1.37-1.37c-.4-.4-.92-.59-1.43-.59-.52 0-1.04.2-1.43.59L10.3 9.45l-7.72 7.72c-.78.78-.78 2.05 0 2.83L4 21.41c.39.39.9.59 1.41.59.51 0 1.02-.2 1.41-.59l7.78-7.78 2.81-2.81c.8-.78.8-2.07 0-2.86zM5.41 20L4 18.59l7.72-7.72 1.47 1.35L5.41 20z\"/>\n",
              "  </svg>\n",
              "      </button>\n",
              "      \n",
              "  <style>\n",
              "    .colab-df-container {\n",
              "      display:flex;\n",
              "      flex-wrap:wrap;\n",
              "      gap: 12px;\n",
              "    }\n",
              "\n",
              "    .colab-df-convert {\n",
              "      background-color: #E8F0FE;\n",
              "      border: none;\n",
              "      border-radius: 50%;\n",
              "      cursor: pointer;\n",
              "      display: none;\n",
              "      fill: #1967D2;\n",
              "      height: 32px;\n",
              "      padding: 0 0 0 0;\n",
              "      width: 32px;\n",
              "    }\n",
              "\n",
              "    .colab-df-convert:hover {\n",
              "      background-color: #E2EBFA;\n",
              "      box-shadow: 0px 1px 2px rgba(60, 64, 67, 0.3), 0px 1px 3px 1px rgba(60, 64, 67, 0.15);\n",
              "      fill: #174EA6;\n",
              "    }\n",
              "\n",
              "    [theme=dark] .colab-df-convert {\n",
              "      background-color: #3B4455;\n",
              "      fill: #D2E3FC;\n",
              "    }\n",
              "\n",
              "    [theme=dark] .colab-df-convert:hover {\n",
              "      background-color: #434B5C;\n",
              "      box-shadow: 0px 1px 3px 1px rgba(0, 0, 0, 0.15);\n",
              "      filter: drop-shadow(0px 1px 2px rgba(0, 0, 0, 0.3));\n",
              "      fill: #FFFFFF;\n",
              "    }\n",
              "  </style>\n",
              "\n",
              "      <script>\n",
              "        const buttonEl =\n",
              "          document.querySelector('#df-68b1b315-7f6a-44a7-b24b-5be18059c4e1 button.colab-df-convert');\n",
              "        buttonEl.style.display =\n",
              "          google.colab.kernel.accessAllowed ? 'block' : 'none';\n",
              "\n",
              "        async function convertToInteractive(key) {\n",
              "          const element = document.querySelector('#df-68b1b315-7f6a-44a7-b24b-5be18059c4e1');\n",
              "          const dataTable =\n",
              "            await google.colab.kernel.invokeFunction('convertToInteractive',\n",
              "                                                     [key], {});\n",
              "          if (!dataTable) return;\n",
              "\n",
              "          const docLinkHtml = 'Like what you see? Visit the ' +\n",
              "            '<a target=\"_blank\" href=https://colab.research.google.com/notebooks/data_table.ipynb>data table notebook</a>'\n",
              "            + ' to learn more about interactive tables.';\n",
              "          element.innerHTML = '';\n",
              "          dataTable['output_type'] = 'display_data';\n",
              "          await google.colab.output.renderOutput(dataTable, element);\n",
              "          const docLink = document.createElement('div');\n",
              "          docLink.innerHTML = docLinkHtml;\n",
              "          element.appendChild(docLink);\n",
              "        }\n",
              "      </script>\n",
              "    </div>\n",
              "  </div>\n",
              "  "
            ]
          },
          "metadata": {},
          "execution_count": 2
        }
      ],
      "source": [
        "# load in your data: morphological metrics for your sulcal labels\n",
        "url = 'https://raw.githubusercontent.com/smaboudian/sulcal-morph-demo/main/demo-30CN_MPC.csv'\n",
        "df = pd.read_csv(url, converters={'item': eval})\n",
        "df.head()"
      ]
    },
    {
      "cell_type": "code",
      "execution_count": null,
      "id": "4d9c1dfa",
      "metadata": {
        "id": "4d9c1dfa"
      },
      "outputs": [],
      "source": [
        "# function to make violin plots, using Seaborn (just run this cell)\n",
        "\n",
        "def violinplot(df, metric, metric_name):\n",
        "    sulci = ['pos', 'prculs', 'prcus-p', 'prcus-i', 'prcus-a', \n",
        "             'spls', 'mcgs','sspls', 'ifrms', 'icgs-p']\n",
        "\n",
        "    fig, axes = plt.subplots(1, 2, sharey=True, figsize=(15, 4))\n",
        "    fig.suptitle(metric_name+' by sulcal type and hemisphere');\n",
        "\n",
        "    axes[0].set_title('left hem.')\n",
        "    sns.violinplot(ax=axes[0],\n",
        "                   x=\"label\", y=metric, \n",
        "                   hue=\"sulc_type\", order=sulci,\n",
        "                   data=df[df['hemi']=='lh']);\n",
        "    axes[1].set_title('right hem.')\n",
        "    axes[1].set_ylabel('');\n",
        "    sns.violinplot(ax=axes[1],\n",
        "                   x=\"label\", y=metric, \n",
        "                   hue=\"sulc_type\", order=sulci,\n",
        "                   data=df[df['hemi']=='rh']);\n"
      ]
    },
    {
      "cell_type": "code",
      "execution_count": null,
      "id": "3f568a15",
      "metadata": {
        "id": "3f568a15",
        "colab": {
          "base_uri": "https://localhost:8080/",
          "height": 307
        },
        "outputId": "a47b992e-882c-4522-c6c7-3d83bda22e09"
      },
      "outputs": [
        {
          "output_type": "display_data",
          "data": {
            "text/plain": [
              "<Figure size 1080x288 with 2 Axes>"
            ],
            "image/png": "[encoded data removed]"
          },
          "metadata": {
            "needs_background": "light"
          }
        }
      ],
      "source": [
        "# plot mean sulcal cortical thickness (in mm)\n",
        "violinplot(df, 'cortical_thickness_mean', 'sulcal cortical thickness')"
      ]
    },
    {
      "cell_type": "code",
      "execution_count": null,
      "id": "2ce8438b",
      "metadata": {
        "id": "2ce8438b",
        "colab": {
          "base_uri": "https://localhost:8080/",
          "height": 307
        },
        "outputId": "eb2c64f6-aad7-495d-bdd7-95847589b9da"
      },
      "outputs": [
        {
          "output_type": "display_data",
          "data": {
            "text/plain": [
              "<Figure size 1080x288 with 2 Axes>"
            ],
            "image/png": "[encoded data removed]"
          },
          "metadata": {
            "needs_background": "light"
          }
        }
      ],
      "source": [
        "# plot mean sulcal depth (in mm)\n",
        "violinplot(df, 'sulcal_depth_mm', 'sulcal depth')"
      ]
    },
    {
      "cell_type": "markdown",
      "id": "9415b4f6",
      "metadata": {
        "id": "9415b4f6"
      },
      "source": [
        "It looks like tertiary sulci are both thicker and less deep than primary & secondary sulci. Let's confirm that:"
      ]
    },
    {
      "cell_type": "code",
      "execution_count": null,
      "id": "71b4837c",
      "metadata": {
        "id": "71b4837c"
      },
      "outputs": [],
      "source": [
        "## setup rpy2 ##\n",
        "# run once; this will allow you to run R embedded in your Python notebook\n",
        "%load_ext rpy2.ipython\n"
      ]
    },
    {
      "cell_type": "code",
      "execution_count": null,
      "id": "e30250a0",
      "metadata": {
        "id": "e30250a0"
      },
      "outputs": [],
      "source": [
        "## import robjects ##\n",
        "import tzlocal\n",
        "import rpy2.robjects \n",
        "from rpy2.robjects import r"
      ]
    },
    {
      "cell_type": "code",
      "execution_count": null,
      "id": "7adeff44",
      "metadata": {
        "id": "7adeff44",
        "colab": {
          "base_uri": "https://localhost:8080/"
        },
        "outputId": "fc8da52b-b19e-4883-c93f-20ccc133dbcb"
      },
      "outputs": [
        {
          "output_type": "execute_result",
          "data": {
            "text/plain": [
              "<rpy2.rinterface_lib.sexp.NULLType object at 0x7f1e97b70e60> [RTYPES.NILSXP]"
            ]
          },
          "metadata": {},
          "execution_count": 8
        }
      ],
      "source": [
        "#### import rpackages ####\n",
        "\n",
        "# import rpy2's package module\n",
        "import rpy2.robjects.packages as rpackages\n",
        "\n",
        "# import R's utility package\n",
        "utils = rpackages.importr('utils')\n",
        "\n",
        "# select a mirror for R packages\n",
        "utils.chooseCRANmirror(ind=1) # select the first mirror in the list"
      ]
    },
    {
      "cell_type": "code",
      "execution_count": null,
      "id": "0748651f",
      "metadata": {
        "id": "0748651f",
        "colab": {
          "base_uri": "https://localhost:8080/"
        },
        "outputId": "ab7fe390-fa39-4d2f-f251-087cd6edd9c2"
      },
      "outputs": [
        {
          "output_type": "stream",
          "name": "stdout",
          "text": [
            "Cortical Thickness ANOVA:\n",
            "               numDF denDF  F-value p-value\n",
            "(Intercept)        1   469 9398.658  <.0001\n",
            "hemi               1    29    0.698  0.4103\n",
            "sulc_type          1    58  530.281  <.0001\n",
            "hemi:sulc_type     1    58    2.133  0.1496\n",
            "\n",
            "Sulcal Depth ANOVA:\n",
            "               numDF denDF   F-value p-value\n",
            "(Intercept)        1   469 3064.8245  <.0001\n",
            "hemi               1    29    5.2709  0.0291\n",
            "sulc_type          1    58  366.9125  <.0001\n",
            "hemi:sulc_type     1    58    0.0398  0.8426\n"
          ]
        }
      ],
      "source": [
        "%%R \n",
        "#^ runs R in this cell\n",
        "\n",
        "# load packages\n",
        "library(nlme)\n",
        "\n",
        "# load data in R\n",
        "url = 'https://raw.githubusercontent.com/smaboudian/sulcal-morph-demo/main/demo-30CN_MPC.csv'\n",
        "df = read.csv(url)\n",
        "\n",
        "# run models\n",
        "model_CT <- lme(cortical_thickness_mean ~ hemi * sulc_type, random = ~ 1|sub/hemi/sulc_type,\n",
        "               data = df)\n",
        "model_CT.aov <- anova(model_CT)\n",
        "cat('Cortical Thickness ANOVA:\\n')\n",
        "print(model_CT.aov)\n",
        "\n",
        "model_SD <- lme(sulcal_depth_mm ~ hemi * sulc_type, random = ~ 1|sub/hemi/sulc_type,\n",
        "               data = df)\n",
        "model_SD.aov <- anova(model_SD)\n",
        "cat('\\nSulcal Depth ANOVA:\\n')\n",
        "print(model_SD.aov)"
      ]
    },
    {
      "cell_type": "code",
      "execution_count": null,
      "id": "196eaba3",
      "metadata": {
        "id": "196eaba3"
      },
      "outputs": [],
      "source": [
        "# feel free to run your own analyses in the cells below!"
      ]
    },
    {
      "cell_type": "code",
      "execution_count": null,
      "id": "6a6a8514",
      "metadata": {
        "id": "6a6a8514"
      },
      "outputs": [],
      "source": []
    },
    {
      "cell_type": "code",
      "execution_count": null,
      "id": "6f655e2b",
      "metadata": {
        "id": "6f655e2b"
      },
      "outputs": [],
      "source": []
    },
    {
      "cell_type": "code",
      "execution_count": null,
      "id": "99939396",
      "metadata": {
        "id": "99939396"
      },
      "outputs": [],
      "source": []
    },
    {
      "cell_type": "code",
      "execution_count": null,
      "id": "030751f8",
      "metadata": {
        "id": "030751f8"
      },
      "outputs": [],
      "source": []
    },
    {
      "cell_type": "markdown",
      "id": "630d9226",
      "metadata": {
        "id": "630d9226"
      },
      "source": [
        "# Resources:\n",
        "\n",
        "1. FreeSurfer wiki: https://surfer.nmr.mgh.harvard.edu/fswiki\n",
        "2. FreeSurfer tutorial slides used in this demo: https://surfer.nmr.mgh.harvard.edu/fswiki/Tutorials \n",
        "3. FreeSurfer tutorial: https://andysbrainbook.readthedocs.io/en/latest/FreeSurfer/FreeSurfer_Introduction.html\n",
        "4. Example CNL papers: (Miller et al., J Neuro, 2021 https://www.jneurosci.org/content/41/10/2229; Voorhies et al., Nat Comm 2021 https://cnl.berkeley.edu/papers/Voorhies_NatureCommunications_2021.pdf)\n",
        "5. Lab website: https://cnl.berkeley.edu/publications.html\n",
        "6. Data used in this example, from the Alzheimer’s Disease Neuroimaging Initiative (ADNI): https://adni.loni.usc.edu/\n",
        "\n"
      ]
    },
    {
      "cell_type": "code",
      "execution_count": null,
      "id": "2e8868f8",
      "metadata": {
        "id": "2e8868f8"
      },
      "outputs": [],
      "source": []
    },
    {
      "cell_type": "code",
      "source": [],
      "metadata": {
        "id": "zy1Su-dyAI-9"
      },
      "id": "zy1Su-dyAI-9",
      "execution_count": null,
      "outputs": []
    },
    {
      "cell_type": "code",
      "source": [],
      "metadata": {
        "id": "q-W5mbgGAJJc"
      },
      "id": "q-W5mbgGAJJc",
      "execution_count": null,
      "outputs": []
    },
    {
      "cell_type": "markdown",
      "source": [
        "# Transcriptomics pipeline\n",
        "\n",
        "The goal of this tutorial is to evaluate how changes in gene expression for a certain subset of genes is associated with anatomical features of the adult cerebral cortex\n"
      ],
      "metadata": {
        "id": "zR6fG9lsAJUz"
      },
      "id": "zR6fG9lsAJUz"
    },
    {
      "cell_type": "markdown",
      "source": [
        "Dataset #1 <br>\n",
        "<img src=\"https://raw.githubusercontent.com/smaboudian/sulcal-morph-demo/main/images/ahba.png\" width=\"600\" />"
      ],
      "metadata": {
        "id": "q0FJj_lfA4Fl"
      },
      "id": "q0FJj_lfA4Fl"
    },
    {
      "cell_type": "markdown",
      "source": [
        "Dataset #2\n",
        "Dataset #1 <br>\n",
        "<img src=\"https://raw.githubusercontent.com/smaboudian/sulcal-morph-demo/main/images/jubrain.png\" width=\"600\" />"
      ],
      "metadata": {
        "id": "vkkPDf6tA4Ov"
      },
      "id": "vkkPDf6tA4Ov"
    },
    {
      "cell_type": "code",
      "source": [
        "# Lets load the packages being used\n",
        "#import numpy as np #already loaded\n",
        "import scipy as sp\n",
        "import pandas as pd #renaming\n",
        "import pickle\n",
        "from matplotlib import pyplot as plt"
      ],
      "metadata": {
        "id": "2nu4GfS_A-TC"
      },
      "id": "2nu4GfS_A-TC",
      "execution_count": null,
      "outputs": []
    },
    {
      "cell_type": "code",
      "source": [
        "with open(('project_data.pickle'), 'rb') as handle: ##############################\n",
        "    data = pickle.load(handle)\n",
        "data.head()"
      ],
      "metadata": {
        "id": "OkUO2-ZgBI1B"
      },
      "id": "OkUO2-ZgBI1B",
      "execution_count": null,
      "outputs": []
    },
    {
      "cell_type": "code",
      "source": [
        "# View all the variables stored in the data dictionary\n",
        "data.keys()"
      ],
      "metadata": {
        "id": "gVKrenv2BK7e"
      },
      "id": "gVKrenv2BK7e",
      "execution_count": null,
      "outputs": []
    },
    {
      "cell_type": "markdown",
      "source": [
        "In the cell above, we're able to view all the variables that are given to you for analysis. Below is the information for the most important variables: <br>\n",
        "1. gene_name = the name of each gene with expression data obtained across the probes/samples <br>\n",
        "2. roi_name = the name of the cytoarchitectonic regions (ROIs) that the coord_expr data will be aligned too <br>\n",
        "3. roi_expr = the AVERAGE gene expression for each ROI (Note that this is averaged data - this is becuase there are multiple probes/samples present in the ROIs, see 'sys_sample') <br>\n",
        "4. subcort_inds = indices of the 'roi_name' list that are subcortical structures. All the other indices not listed here are considered cortical ROIs \n",
        "\n",
        "Now, the following variables contain information that use in the Burt et al., paper. This are essentially list of genes names pertaining to the different categories that were used in their paper. <br>\n",
        "See https://www.nature.com/articles/s41593-018-0195-0.pdf <br>\n",
        "\n",
        "neuron_genes = list of gene names pertaining to genes strictly related to the neuron cell-type <br>\n",
        "brain_genes = list of gene names pertaining to genes ONLY expressed in brain tissue and no other type of tissue <br>\n",
        "oligo_genes = list of gene names pertaining to genes strictly related to the Oligodendrocyte cell-type <br>\n",
        "synap_genes = list of gene names pertaining to genes strictly related to the synapse of the neuron (i.e. expressed in axon terminals and dendrites - the pre- and post-synaptic side of the cell) <br>"
      ],
      "metadata": {
        "id": "rIHyAoVFBM3X"
      },
      "id": "rIHyAoVFBM3X"
    },
    {
      "cell_type": "markdown",
      "source": [
        "The two datasets have already been aligned by overlaying the transcriptomic samples and the anatomical parcellation in a common template space and then averaging the samples across donors within a single ROI. <br>\n",
        "<img src=\"https://raw.githubusercontent.com/smaboudian/sulcal-morph-demo/main/images/parc_method.png\" width=\"600\" />\n"
      ],
      "metadata": {
        "id": "s3HRt8WDIax_"
      },
      "id": "s3HRt8WDIax_"
    },
    {
      "cell_type": "markdown",
      "source": [
        "1. Lets start by getting our expression matrix (gene expression values for each gene) per cyto-region\n",
        "\n",
        "\n"
      ],
      "metadata": {
        "id": "mi6P017UBpBc"
      },
      "id": "mi6P017UBpBc"
    },
    {
      "cell_type": "code",
      "source": [
        "# Get my data from my data dictionary as seperate variables \n",
        "roi_expr = data['roi_expr'] \n",
        "roi_names = data['roi_name']\n",
        "print(roi_names)\n",
        "print('')\n",
        "print('Shape of roi_expr array = ' + str(roi_expr.shape))"
      ],
      "metadata": {
        "id": "_nx-oAhNBe_7"
      },
      "id": "_nx-oAhNBe_7",
      "execution_count": null,
      "outputs": []
    },
    {
      "cell_type": "markdown",
      "source": [
        "2. Lets take a look at the processed expression data\n",
        "\n",
        "\n"
      ],
      "metadata": {
        "id": "rhtcDb-GB-mc"
      },
      "id": "rhtcDb-GB-mc"
    },
    {
      "cell_type": "code",
      "source": [
        "# Plot the gene data for 2 regions on the same plot\n",
        "\n",
        "roi_1 = 7 # picking a random number out of 106 (i.e. selecting a random ROI) - this can be any number you want so feel free to play around with it!\n",
        "roi_expr_1 = roi_expr[roi_1, 100:200]#100-200 is just random index of genes - can also change this if you'd like\n",
        "roi_name_1 = roi_names[roi_1] # I also want to get the name of the ROI and add it to the plot \n",
        "\n",
        "roi_2 = 5 # picking a random number out of 106 (i.e. selecting a random ROI) - this can be any number you want so feel free to play around with it!\n",
        "roi_expr_2 = roi_expr[roi_2, 100:200] #100-200 is just random index of genes - can also change this if you'd like\n",
        "roi_name_2 = roi_names[roi_2] # I also want to get the name of the ROI and add it to the plot \n",
        "\n",
        "x = range(100,200) # if you change the range for the gene index above, be sure to make the same change here\n",
        "\n",
        "# Plot\n",
        "fig = plt.figure(figsize = (20, 5)) #width x height\n",
        "plt.bar(x, roi_expr_1, color ='maroon',\n",
        "        width = 0.8, alpha=0.5, label=roi_name_1)\n",
        "plt.bar(x, roi_expr_2, color ='blue',\n",
        "        width = 0.8, alpha=0.5, label=roi_name_2)\n",
        "plt.xlabel(\"Gene Index\")\n",
        "plt.ylabel(\"Normalized Gene Expression\")\n",
        "plt.title(\"Gene Expression for two different ROIs\")\n",
        "plt.legend()\n",
        "plt.show()"
      ],
      "metadata": {
        "id": "C6Eegy4JB8a0"
      },
      "id": "C6Eegy4JB8a0",
      "execution_count": null,
      "outputs": []
    },
    {
      "cell_type": "code",
      "source": [
        "# Now lets look at gene expression values acros all ROIs for a single gene \n",
        "rand_gene = 1000 # choose a random number fo any gene within the range of 0:20,000\n",
        "gene_expr = roi_expr[:, rand_gene] #[all ROIs, for gene N]\n",
        "\n",
        "gene_name = gene_names[rand_gene] # I also want the gene name and add it to the plot title \n",
        "\n",
        "x = range(num_rois) # creating my x-axis for the bar plot \n",
        "\n",
        "# Plot\n",
        "fig = plt.figure(figsize = (25, 5)) #width x height\n",
        "plt.bar(x, gene_expr, color ='maroon',\n",
        "        width = 0.8)\n",
        "plt.xlabel(\"Probe Index\")\n",
        "degrees = 45 # degrees of rotation I want for the x-tick labels \n",
        "plt.xticks(x, roi_names, rotation=degrees, fontsize=9) # adding in parameters to manipulate to labels on the axis\n",
        "plt.ylabel(\"Normalized Gene Expression\")\n",
        "plt.title(\"Gene Expression for Gene \" + str(gene_name)) \n",
        "plt.show()"
      ],
      "metadata": {
        "id": "bjod6rbICmzN"
      },
      "id": "bjod6rbICmzN",
      "execution_count": null,
      "outputs": []
    },
    {
      "cell_type": "markdown",
      "source": [
        "3. Now lets subset our roi_expr array to subcoritcal and cortical regions \n",
        "\n"
      ],
      "metadata": {
        "id": "5ejrhnHfC0k4"
      },
      "id": "5ejrhnHfC0k4"
    },
    {
      "cell_type": "code",
      "source": [
        "subcort_inds = data['subcort_inds']\n",
        "print('Number of ROIs that are subcortical = ' + str(len(subcort_inds)))\n",
        "subcort_expr = roi_expr[subcort_inds, :]\n",
        "print('New shape of my expression array is ' + str(subcort_expr.shape))"
      ],
      "metadata": {
        "id": "FAXjBJFsC694"
      },
      "id": "FAXjBJFsC694",
      "execution_count": null,
      "outputs": []
    },
    {
      "cell_type": "code",
      "source": [
        "# Now, get the names of these ROI from the roi_names list \n",
        "# newlist = [oldlist[i] for i in indices_to_select]\n",
        "subcort_names = [roi_names[i] for i in subcort_inds]\n",
        "subcort_names"
      ],
      "metadata": {
        "id": "XiAP71lcC7E3"
      },
      "id": "XiAP71lcC7E3",
      "execution_count": null,
      "outputs": []
    },
    {
      "cell_type": "code",
      "source": [
        "# First, create a new list of indices that are all the values between 0-105 and NOT in the subcortical index list\n",
        "all_inds = range((num_rois))\n",
        "cort_inds = np.setdiff1d(all_inds, subcort_inds)\n",
        "cort_inds"
      ],
      "metadata": {
        "id": "00z3iXhTC-YL"
      },
      "id": "00z3iXhTC-YL",
      "execution_count": null,
      "outputs": []
    },
    {
      "cell_type": "code",
      "source": [
        "# Now, subset the roi_names and roi_expr data to these indices as you did before\n",
        "cort_expr = roi_expr[cort_inds, :]\n",
        "print('New shape of my expression array is ' + str(cort_expr.shape))\n",
        "cort_names = [roi_names[i] for i in cort_inds]\n",
        "print(cort_names)"
      ],
      "metadata": {
        "id": "qWCO_WYQC-hi"
      },
      "id": "qWCO_WYQC-hi",
      "execution_count": null,
      "outputs": []
    },
    {
      "cell_type": "code",
      "source": [
        "# and lets do this for subcortical rois\n",
        "subcort_expr = roi_expr[subcort_inds, :]\n",
        "print('New shape of my expression array is ' + str(subcort_expr.shape))\n",
        "print(subcort_names)"
      ],
      "metadata": {
        "id": "tG45_shnGdTY"
      },
      "id": "tG45_shnGdTY",
      "execution_count": null,
      "outputs": []
    },
    {
      "cell_type": "markdown",
      "source": [
        "4. Using the cortical_roi_expr data array that was made, now subset that dataset using the list of genes provded above from the Burt paper. You can use any set of genes that you'd like, but for the demo below, 'brain genes' have been selected. You can also use: <br>\n",
        "neuron_genes <br>\n",
        "oligo_genes <br>\n",
        "synap_genes"
      ],
      "metadata": {
        "id": "1kTpDms4DCbi"
      },
      "id": "1kTpDms4DCbi"
    },
    {
      "cell_type": "code",
      "source": [
        "# First, make your for loop that gets the indices of brain gene from the overall gene list \n",
        "    # 1. Get list of the category specific gene names from the data dictionary as a new variable \n",
        "    # 2. Create an empty list that will eventually store the indices of those category genes\n",
        "    # 3. Using a for loop, iterate through each name in that category list\n",
        "        # 4. Find WHERE (i.e. get the index) that name occurs in the gene_name list \n",
        "        # 5. save that index to that empty list using: list.append(value)\n",
        "gene_names = data['gene_name']\n",
        "cat_gene_names = data['insert gene category name here'] # This is where you can use any gene set that you'd like \n",
        "print(len(cat_gene_names))\n",
        "cat_inds = []\n",
        "for name in cat_gene_names:\n",
        "    ind = gene_names.index(name)\n",
        "    cat_inds.append(ind)\n",
        "    print('Gene ' +str(name) + ' is at index ' + str(ind))"
      ],
      "metadata": {
        "id": "JyjVVePADckT"
      },
      "id": "JyjVVePADckT",
      "execution_count": null,
      "outputs": []
    },
    {
      "cell_type": "code",
      "source": [
        "print(len(brain_inds))"
      ],
      "metadata": {
        "id": "txUebRjVD_GP"
      },
      "id": "txUebRjVD_GP",
      "execution_count": null,
      "outputs": []
    },
    {
      "cell_type": "code",
      "source": [
        "# Then, using those indices, index your expr array to just those brain genes\n",
        "    # note, you are indexing by columns now, not by rows \n",
        "new_expr = 'fill in expression array here'[:, cat_inds] # Can use 'cort_expr' for cortical ROIs or 'subcort_expr' for subcortical \n",
        "print(new_expr.shape)"
      ],
      "metadata": {
        "id": "AjzA4BU5EA87"
      },
      "id": "AjzA4BU5EA87",
      "execution_count": null,
      "outputs": []
    },
    {
      "cell_type": "markdown",
      "source": [
        "5. Convert your dataset into a dataframe where the index corresponds to the actual ROI names and the column headers correspond to the actual Gene names"
      ],
      "metadata": {
        "id": "S1Dq0xPgEFpm"
      },
      "id": "S1Dq0xPgEFpm"
    },
    {
      "cell_type": "code",
      "source": [
        "# Call the dataframe 'df'\n",
        "roi_names = #fill in either 'subcort_names' or 'cort_names'\n",
        "df = pd.DataFrame(data=new_expr, index=roi_names, columns=gene_names)\n",
        "df"
      ],
      "metadata": {
        "id": "sjgdEeqkECut"
      },
      "id": "sjgdEeqkECut",
      "execution_count": null,
      "outputs": []
    },
    {
      "cell_type": "markdown",
      "source": [
        "### Applying your own PCA!\n",
        "In this final part, we'll learn how to apply principle component analysis to our dataset to get groups of regions based on their genetic profiles where regions grouped together are more genetically similar than other regions"
      ],
      "metadata": {
        "id": "Imnw5P57EKp1"
      },
      "id": "Imnw5P57EKp1"
    },
    {
      "cell_type": "code",
      "source": [
        "# Import the appropiate library\n",
        "from sklearn.decomposition import PCA\n",
        "\n",
        "# Then lets set the number of components we want to look at\n",
        "num_components = 10 "
      ],
      "metadata": {
        "id": "Bn2ilAPeEYba"
      },
      "id": "Bn2ilAPeEYba",
      "execution_count": null,
      "outputs": []
    },
    {
      "cell_type": "code",
      "source": [
        "# Initiate the PCA \n",
        "pca = PCA(n_components=num_components) \n",
        "# Get the Principle components from the data (i.e. the eigenvectors and each's eigenvalue)\n",
        "Y = pca.fit(df)  \n",
        "# Transform the dataset onto each of the principle components (i.e dot product of dataset with eigenvectors)\n",
        "X = pca.transform(df)\n"
      ],
      "metadata": {
        "id": "lf_EprKQEcOg"
      },
      "id": "lf_EprKQEcOg",
      "execution_count": null,
      "outputs": []
    },
    {
      "cell_type": "markdown",
      "source": [
        "Thats it! PCA is already done, now lets take a look at the results \n",
        "\n"
      ],
      "metadata": {
        "id": "uCiN42OBE-x3"
      },
      "id": "uCiN42OBE-x3"
    },
    {
      "cell_type": "code",
      "source": [
        "# Plot variance captured by each principle component \n",
        "var_exp = Y.explained_variance_ratio_\n",
        "\n",
        "x_pos = range(num_components)\n",
        "fig, ax = plt.subplots(figsize=(10,5))\n",
        "plt.bar(x_pos, var_exp, align='edge', alpha=0.7, color='blue', width=0.7)\n",
        "plt.ylabel('Variance Explained', fontsize=12)\n",
        "plt.xlabel('Principle Components', fontsize=12)\n",
        "ax.tick_params(axis='both', labelsize=8)\n",
        "fig.tight_layout()\n",
        "plt.grid(alpha = 0.2) #adding grid to background\n",
        "plt.show()"
      ],
      "metadata": {
        "id": "an2-lPC5EcRq"
      },
      "id": "an2-lPC5EcRq",
      "execution_count": null,
      "outputs": []
    },
    {
      "cell_type": "code",
      "source": [
        "# Plotting values from dataset transformed onto first principle component by second principle component \n",
        "\n",
        "x_vals = X[:,0] #all rows, but first column of dataset\n",
        "y_vals = X[:, 1] #all rows, but second column of dataset\n",
        "\n",
        "plt.scatter(x_vals, y_vals)"
      ],
      "metadata": {
        "id": "WZhWGWnyEcUz"
      },
      "id": "WZhWGWnyEcUz",
      "execution_count": null,
      "outputs": []
    },
    {
      "cell_type": "markdown",
      "source": [
        "Now, in order to get our groupings/clustering of regions based off their expression of the susbset of genes you selected, you'll cluster the regions using K-means clustering below"
      ],
      "metadata": {
        "id": "VF73U_lhFFjQ"
      },
      "id": "VF73U_lhFFjQ"
    },
    {
      "cell_type": "code",
      "source": [
        "# Getting cluster results from pca analysis \n",
        "\n",
        "from sklearn.cluster import KMeans # using cluster function from sklearn package \n",
        "wcss = [] #within cluster sum of squares\n",
        "for i in range(1,21):\n",
        "    kmeans_pca = KMeans(n_clusters = i, init='k-means++', random_state=42)\n",
        "    kmeans_pca.fit(X)\n",
        "    wcss.append(kmeans_pca.inertia_)\n",
        "\n",
        "plt.plot(range(1,21), wcss, marker ='o', linestyle='--')\n",
        "# keep 4 or 5 clusters?\n",
        "\n",
        "kmeans_pca = KMeans(n_clusters = 4, init='k-means++', random_state=42) # Cluster function \n",
        " # where you choose the number of clsuter to select for, based off results from the elbow graph above \n",
        "kmeans_output = kmeans_pca.fit(X)"
      ],
      "metadata": {
        "id": "SZJZDNIpEcZB"
      },
      "id": "SZJZDNIpEcZB",
      "execution_count": null,
      "outputs": []
    },
    {
      "cell_type": "code",
      "source": [
        "# Create dataframe of PCA results w/ clustering results \n",
        "components = X[:,0:2]\n",
        "df_kmeans = pd.DataFrame(components, columns=['PC1', 'PC2'])\n",
        "df_kmeans['clusters'] = kmeans_pca.labels_\n",
        "df_kmeans['roi_names'] = roi_names\n",
        "df_kmeans['cluster_names'] = df_kmeans['clusters'].map({0:'First', 1:'Second', 2:'Third', 3:'Fourth'})"
      ],
      "metadata": {
        "id": "KJ4g_NnQEoTQ"
      },
      "id": "KJ4g_NnQEoTQ",
      "execution_count": null,
      "outputs": []
    },
    {
      "cell_type": "code",
      "source": [
        "# Plot with KMeans cluster labels\n",
        "import seaborn as sns #plotting w/ seaborn\n",
        "\n",
        "x_axis = df_kmeans['PC1']\n",
        "y_axis = df_kmeans['PC2']\n",
        "\n",
        "fig, ax = plt.subplots(figsize=(12,12))\n",
        "sns.scatterplot(x_axis, y_axis, hue=df_kmeans['cluster_names'])\n",
        "plt.title('Cluster by PCA Components')\n",
        "for i in range(df_kmeans.shape[0]):\n",
        "    plt.text(x=x_axis[i]+0.3, y=y_axis[i]+0.3, s=df_kmeans.roi_names[i], \n",
        "             fontdict=dict(color='black', size=8))\n",
        "plt.show()\n"
      ],
      "metadata": {
        "id": "pSGWgZInEoWA"
      },
      "id": "pSGWgZInEoWA",
      "execution_count": null,
      "outputs": []
    },
    {
      "cell_type": "markdown",
      "source": [
        "That it! You did your PCA on your dataset and can evaluated how anatomically-defined regions are similar to one another based off their expression of a certain subset of genes"
      ],
      "metadata": {
        "id": "Thyto5dlFVJL"
      },
      "id": "Thyto5dlFVJL"
    },
    {
      "cell_type": "code",
      "source": [],
      "metadata": {
        "id": "aH5zZDTmFTrp"
      },
      "id": "aH5zZDTmFTrp",
      "execution_count": null,
      "outputs": []
    }
  ],
  "metadata": {
    "kernelspec": {
      "display_name": "Python 3",
      "language": "python",
      "name": "python3"
    },
    "language_info": {
      "codemirror_mode": {
        "name": "ipython",
        "version": 3
      },
      "file_extension": ".py",
      "mimetype": "text/x-python",
      "name": "python",
      "nbconvert_exporter": "python",
      "pygments_lexer": "ipython3",
      "version": "3.7.7"
    },
    "colab": {
      "provenance": []
    }
  },
  "nbformat": 4,
  "nbformat_minor": 5
}